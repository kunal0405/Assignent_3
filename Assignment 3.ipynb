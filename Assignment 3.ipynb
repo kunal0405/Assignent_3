{
 "cells": [
  {
   "cell_type": "markdown",
   "id": "90f811a9",
   "metadata": {},
   "source": [
    "# Write a Python function to sum all the numbers in a list.\n",
    "\n",
    "\n",
    "\n",
    "Sample List : (8, 2, 3, 0, 7)\n",
    "\n",
    "Expected Output : 20\n",
    "\n",
    "\n",
    "\n",
    "Explanation:\n",
    "\n",
    "\n",
    "\n",
    "Summation should like 8+2+3+0+7 = 20\n",
    "\n"
   ]
  },
  {
   "cell_type": "code",
   "execution_count": 23,
   "id": "63253961",
   "metadata": {},
   "outputs": [],
   "source": [
    "def sample_list(x):\n",
    "    total=0\n",
    "    for i in x:\n",
    "        total=total+i\n",
    "    return y"
   ]
  },
  {
   "cell_type": "code",
   "execution_count": 27,
   "id": "40b2e66c",
   "metadata": {},
   "outputs": [
    {
     "data": {
      "text/plain": [
       "20"
      ]
     },
     "execution_count": 27,
     "metadata": {},
     "output_type": "execute_result"
    }
   ],
   "source": [
    "sample_list((8,2,3,0,7,))"
   ]
  },
  {
   "cell_type": "markdown",
   "id": "661a1150",
   "metadata": {},
   "source": [
    "# Write a Python program to reverse a string.\n",
    "\n",
    "\n",
    "\n",
    "﻿Sample String : \"1234abcd\"\n",
    "\n",
    "Expected Output : \"dcba4321\""
   ]
  },
  {
   "cell_type": "code",
   "execution_count": 55,
   "id": "8c79c481",
   "metadata": {},
   "outputs": [],
   "source": [
    "def sample_string(string):\n",
    "    empty_string=\"\"\n",
    "    \n",
    "    for i in string:\n",
    "        empty_string = i + empty_string\n",
    "        \n",
    "    print(empty_string)"
   ]
  },
  {
   "cell_type": "code",
   "execution_count": 70,
   "id": "bdabba74",
   "metadata": {},
   "outputs": [
    {
     "name": "stdout",
     "output_type": "stream",
     "text": [
      "dcba4321\n"
     ]
    }
   ],
   "source": [
    "sample_string(\"1234abcd\")"
   ]
  },
  {
   "cell_type": "markdown",
   "id": "10ce64f0",
   "metadata": {},
   "source": [
    "# Write a Python function that accepts a string and calculate the number of upper case letters and lower case letters.\n",
    "\n",
    "\n",
    "\n",
    "﻿Sample String : 'The quick Brow Fox'\n",
    "\n",
    "Expected Output :\n",
    "\n",
    "No. of Upper case characters : 3\n",
    "\n",
    "No. of Lower case Characters : 12\n",
    "\n"
   ]
  },
  {
   "cell_type": "code",
   "execution_count": 78,
   "id": "29049ab9",
   "metadata": {},
   "outputs": [],
   "source": [
    "def num_string(x):\n",
    "    upper_case=0\n",
    "    lower_case=0\n",
    "    for i in x:\n",
    "        if i.isupper():\n",
    "            upper_case=upper_case+1\n",
    "            \n",
    "        elif i.islower():\n",
    "            lower_case=lower_case+1\n",
    "            \n",
    "    print(\"No. of Upper case characters :\",upper_case)\n",
    "    print(\"No. of Lower case Characters :\",lower_case)"
   ]
  },
  {
   "cell_type": "code",
   "execution_count": 81,
   "id": "70445682",
   "metadata": {},
   "outputs": [
    {
     "name": "stdout",
     "output_type": "stream",
     "text": [
      "The Upper case is: 3\n",
      "The lower case is: 12\n"
     ]
    }
   ],
   "source": [
    "num_string(\"The quick Brow Fox\")"
   ]
  }
 ],
 "metadata": {
  "kernelspec": {
   "display_name": "Python 3 (ipykernel)",
   "language": "python",
   "name": "python3"
  },
  "language_info": {
   "codemirror_mode": {
    "name": "ipython",
    "version": 3
   },
   "file_extension": ".py",
   "mimetype": "text/x-python",
   "name": "python",
   "nbconvert_exporter": "python",
   "pygments_lexer": "ipython3",
   "version": "3.9.6"
  }
 },
 "nbformat": 4,
 "nbformat_minor": 5
}
